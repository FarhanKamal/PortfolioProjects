{
 "cells": [
  {
   "cell_type": "code",
   "execution_count": 6,
   "id": "f81b3ac2",
   "metadata": {},
   "outputs": [],
   "source": [
    "# import libraries\n",
    "\n",
    "from bs4 import BeautifulSoup\n",
    "import requests\n",
    "import time\n",
    "import datetime\n",
    "\n",
    "import smtplib"
   ]
  },
  {
   "cell_type": "code",
   "execution_count": 12,
   "id": "5c90ee72",
   "metadata": {},
   "outputs": [
    {
     "name": "stdout",
     "output_type": "stream",
     "text": [
      "EXPO White Board Care Dry Erase Wipes, 8-Inches x 5.5-Inches, 50 Count\n",
      "7.58\n"
     ]
    }
   ],
   "source": [
    "# Connect to Website\n",
    "\n",
    "URL = 'https://www.amazon.com/gp/product/B001B0GYZ8/ref=ewc_pr_img_3?smid=ATVPDKIKX0DER&th=1'\n",
    "\n",
    "headers = {\"user-Agent\": \"Mozilla/5.0 (Windows NT 10.0; Win64; x64) AppleWebKit/537.36 (KHTML, like Gecko) Chrome/109.0.0.0 Safari/537.36\",\"Accept-Encoding\": \"gzip, deflate, br\",\"Accept\": \"text/html,application/xhtml+xml,application/xml;q=0.9,*/*;q=0.8\", \"DNT\":\"1\", \"Connection\":\"close\", \"Upgrade-Insecure-Requests\":\"1\"}\n",
    "\n",
    "page = requests.get(URL, headers=headers)\n",
    "\n",
    "soup1 = BeautifulSoup(page.content, \"html.parser\")\n",
    "\n",
    "soup2 = BeautifulSoup(soup1.prettify(), \"html.parser\")\n",
    "\n",
    "title = soup2.find(id='productTitle').text.strip()\n",
    "\n",
    "price = soup2.find(\"span\", attrs={\"class\": 'a-price a-text-price header-price a-size-base a-text-normal'}).find(\"span\", attrs={\"class\": \"a-offscreen\"}).text.strip()[1:]\n",
    "\n",
    "print(title)\n",
    "print(price)\n"
   ]
  },
  {
   "cell_type": "code",
   "execution_count": 21,
   "id": "64b5b2a1",
   "metadata": {},
   "outputs": [
    {
     "name": "stdout",
     "output_type": "stream",
     "text": [
      "2023-02-02\n"
     ]
    }
   ],
   "source": [
    "import datetime\n",
    "\n",
    "today = datetime.date.today()\n",
    "\n",
    "print(today)"
   ]
  },
  {
   "cell_type": "code",
   "execution_count": 23,
   "id": "c37b85e9",
   "metadata": {},
   "outputs": [],
   "source": [
    "#Put this data into a csv Excel file\n",
    "\n",
    "import csv\n",
    "\n",
    "header = ['Title', 'Price', 'Date']\n",
    "data = [title, price, today]\n",
    "\n",
    "#Only run this code ONE TIME!!! If you have to restart or rerun it, DON'T!!!\n",
    "\n",
    "#with open('AmazonWebScrapingDatasetProject.csv', 'w', newline='', encoding='UTF8') as f:\n",
    "    #writer = csv.writer(f)\n",
    "    #writer.writerow(header)\n",
    "    #writer.writerow(data)"
   ]
  },
  {
   "cell_type": "code",
   "execution_count": 29,
   "id": "179d45e2",
   "metadata": {},
   "outputs": [
    {
     "name": "stdout",
     "output_type": "stream",
     "text": [
      "                                               Title  Price        Date\n",
      "0  EXPO White Board Care Dry Erase Wipes, 8-Inche...   7.58  2023-02-02\n",
      "1  EXPO White Board Care Dry Erase Wipes, 8-Inche...   7.58  2023-02-02\n",
      "2  EXPO White Board Care Dry Erase Wipes, 8-Inche...   7.58  2023-02-02\n",
      "3  EXPO White Board Care Dry Erase Wipes, 8-Inche...   7.58  2023-02-02\n"
     ]
    }
   ],
   "source": [
    "#Import Pandas library to view change in Excel file without opening Excel AND running the next line to print multiple timestamps\n",
    "\n",
    "import pandas as pd\n",
    "\n",
    "df = pd.read_csv(r'C:\\Users\\fahim\\AmazonWebScrapingDatasetProject.csv')\n",
    "\n",
    "print(df)"
   ]
  },
  {
   "cell_type": "code",
   "execution_count": 28,
   "id": "06718ebf",
   "metadata": {},
   "outputs": [],
   "source": [
    "#Now we are appending data to the csv\n",
    "\n",
    "with open('AmazonWebScrapingDatasetProject.csv', 'a+', newline='', encoding='UTF8') as f:\n",
    "    writer = csv.writer(f)\n",
    "    writer.writerow(data)"
   ]
  },
  {
   "cell_type": "code",
   "execution_count": 33,
   "id": "417661f8",
   "metadata": {},
   "outputs": [],
   "source": [
    "#Copy codes that connects the website, imports th date time, and appends the data in a Excel file (.csv file) under the check_price function \n",
    "\n",
    "def check_price():\n",
    "    URL = 'https://www.amazon.com/gp/product/B001B0GYZ8/ref=ewc_pr_img_3?smid=ATVPDKIKX0DER&th=1'\n",
    "\n",
    "    headers = {\"user-Agent\": \"Mozilla/5.0 (Windows NT 10.0; Win64; x64) AppleWebKit/537.36 (KHTML, like Gecko) Chrome/109.0.0.0 Safari/537.36\",\"Accept-Encoding\": \"gzip, deflate, br\",\"Accept\": \"text/html,application/xhtml+xml,application/xml;q=0.9,*/*;q=0.8\", \"DNT\":\"1\", \"Connection\":\"close\", \"Upgrade-Insecure-Requests\":\"1\"}\n",
    "\n",
    "    page = requests.get(URL, headers=headers)\n",
    "\n",
    "    soup1 = BeautifulSoup(page.content, \"html.parser\")\n",
    "\n",
    "    soup2 = BeautifulSoup(soup1.prettify(), \"html.parser\")\n",
    "\n",
    "    title = soup2.find(id='productTitle').text.strip()\n",
    "\n",
    "    price = soup2.find(\"span\", attrs={\"class\": 'a-price a-text-price header-price a-size-base a-text-normal'}).find(\"span\", attrs={\"class\": \"a-offscreen\"}).text.strip()[1:]\n",
    "\n",
    "    print(title)\n",
    "    print(price)\n",
    "\n",
    "\n",
    "    import datetime\n",
    "\n",
    "    today = datetime.date.today()\n",
    "\n",
    "    print(today)\n",
    "    \n",
    "\n",
    "    import csv\n",
    "\n",
    "    header = ['Title', 'Price', 'Date']\n",
    "    data = [title, price, today]\n",
    "\n",
    "    with open('AmazonWebScrapingDatasetProject.csv', 'a+', newline='', encoding='UTF8') as f:\n",
    "        writer = csv.writer(f)\n",
    "        writer.writerow(data)\n",
    "        \n",
    "#Creating a function for an email price alert for this item\n",
    "\n",
    "    if(price < 7):\n",
    "        send_mail()\n",
    "    "
   ]
  },
  {
   "cell_type": "code",
   "execution_count": 37,
   "id": "255ce632",
   "metadata": {},
   "outputs": [
    {
     "ename": "IndentationError",
     "evalue": "unexpected indent (2479658480.py, line 4)",
     "output_type": "error",
     "traceback": [
      "\u001b[1;36m  File \u001b[1;32m\"C:\\Users\\fahim\\AppData\\Local\\Temp\\ipykernel_8164\\2479658480.py\"\u001b[1;36m, line \u001b[1;32m4\u001b[0m\n\u001b[1;33m    check_price()\u001b[0m\n\u001b[1;37m    ^\u001b[0m\n\u001b[1;31mIndentationError\u001b[0m\u001b[1;31m:\u001b[0m unexpected indent\n"
     ]
    }
   ],
   "source": [
    "#Runs price data every 5 seconds\n",
    "\n",
    "#while(True):\n",
    "    #check_price()\n",
    "    #time.sleep(5)"
   ]
  },
  {
   "cell_type": "code",
   "execution_count": null,
   "id": "6869aad2",
   "metadata": {},
   "outputs": [],
   "source": [
    "#Runs price data once a day in terms of seconds\n",
    "\n",
    "while(True):\n",
    "    check_price()\n",
    "    time.sleep(86400)"
   ]
  },
  {
   "cell_type": "code",
   "execution_count": 36,
   "id": "19783a54",
   "metadata": {},
   "outputs": [
    {
     "name": "stdout",
     "output_type": "stream",
     "text": [
      "                                                Title  Price        Date\n",
      "0   EXPO White Board Care Dry Erase Wipes, 8-Inche...   7.58  2023-02-02\n",
      "1   EXPO White Board Care Dry Erase Wipes, 8-Inche...   7.58  2023-02-02\n",
      "2   EXPO White Board Care Dry Erase Wipes, 8-Inche...   7.58  2023-02-02\n",
      "3   EXPO White Board Care Dry Erase Wipes, 8-Inche...   7.58  2023-02-02\n",
      "4   EXPO White Board Care Dry Erase Wipes, 8-Inche...   7.58  2023-02-02\n",
      "5   EXPO White Board Care Dry Erase Wipes, 8-Inche...   7.58  2023-02-02\n",
      "6   EXPO White Board Care Dry Erase Wipes, 8-Inche...   7.58  2023-02-02\n",
      "7   EXPO White Board Care Dry Erase Wipes, 8-Inche...   7.58  2023-02-02\n",
      "8   EXPO White Board Care Dry Erase Wipes, 8-Inche...   7.58  2023-02-02\n",
      "9   EXPO White Board Care Dry Erase Wipes, 8-Inche...   7.58  2023-02-02\n",
      "10  EXPO White Board Care Dry Erase Wipes, 8-Inche...   7.58  2023-02-02\n",
      "11  EXPO White Board Care Dry Erase Wipes, 8-Inche...   7.58  2023-02-02\n",
      "12  EXPO White Board Care Dry Erase Wipes, 8-Inche...   7.58  2023-02-02\n",
      "13  EXPO White Board Care Dry Erase Wipes, 8-Inche...   7.58  2023-02-02\n",
      "14  EXPO White Board Care Dry Erase Wipes, 8-Inche...   7.58  2023-02-02\n"
     ]
    }
   ],
   "source": [
    "import pandas as pd\n",
    "\n",
    "df = pd.read_csv(r'C:\\Users\\fahim\\AmazonWebScrapingDatasetProject.csv')\n",
    "\n",
    "print(df)"
   ]
  },
  {
   "cell_type": "code",
   "execution_count": null,
   "id": "c8c639c8",
   "metadata": {},
   "outputs": [],
   "source": [
    "#This logs into email account and creates the email subject and body which will be sent if check_price is activated (Note: the 'xxxxxxxxxx' is the password to your email. Due to privacy reasons, I am censoring this portion of the code.)\n",
    "\n",
    "def send_mail():\n",
    "    server = smtplib.SMTP_SSL('smtp.gmail.com',465)\n",
    "    server.ehlo()\n",
    "    #server.starttls()\n",
    "    server.ehlo()\n",
    "    server.login('fahimkamal@utexas.edu', 'xxxxxxxxxx')\n",
    "    \n",
    "    subject = \"EXPO Whiteboard Cleaning Wipes On Sale!\"\n",
    "    body = \"Yo Fahim! These wet wipes are below $7 right now!! Now is a good time to pick it up if you have other stuff you're trying to buy! Here's the link: https://www.amazon.com/gp/product/B001B0GYZ8/ref=ewc_pr_img_3?smid=ATVPDKIKX0DER&th=1\"\n",
    "    \n",
    "    msg = f\"Subject: {subject}\\n\\n{body}\"\n",
    "    \n",
    "    server.sendmail(\n",
    "        'fahimkamal@utexas.edu',\n",
    "    )"
   ]
  },
  {
   "cell_type": "code",
   "execution_count": null,
   "id": "c80b9b11",
   "metadata": {},
   "outputs": [],
   "source": []
  }
 ],
 "metadata": {
  "kernelspec": {
   "display_name": "Python 3 (ipykernel)",
   "language": "python",
   "name": "python3"
  },
  "language_info": {
   "codemirror_mode": {
    "name": "ipython",
    "version": 3
   },
   "file_extension": ".py",
   "mimetype": "text/x-python",
   "name": "python",
   "nbconvert_exporter": "python",
   "pygments_lexer": "ipython3",
   "version": "3.9.13"
  }
 },
 "nbformat": 4,
 "nbformat_minor": 5
}
